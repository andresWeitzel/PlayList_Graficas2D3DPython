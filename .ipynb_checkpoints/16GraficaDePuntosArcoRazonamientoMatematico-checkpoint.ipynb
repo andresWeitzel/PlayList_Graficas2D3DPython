{
 "cells": [
  {
   "cell_type": "code",
   "execution_count": 1,
   "metadata": {},
   "outputs": [],
   "source": [
    "import numpy as np\n",
    "import matplotlib.pyplot as plt"
   ]
  },
  {
   "cell_type": "code",
   "execution_count": 10,
   "metadata": {},
   "outputs": [
    {
     "data": {
      "image/png": "[encoded data removed]",
      "text/plain": [
       "<Figure size 432x288 with 1 Axes>"
      ]
     },
     "metadata": {
      "needs_background": "light"
     },
     "output_type": "display_data"
    }
   ],
   "source": [
    "'''\n",
    "==================================================================\n",
    "=====COORDENADAS ARCO CIRCULAR | FORMA RAZONAMIENTO MATEMATICO ======\n",
    "==================================================================\n",
    "\n",
    "'''\n",
    "\n",
    "#plt.axis([x1,x2,y1,y2])\n",
    "plt.axis([-10,140,100,-10])\n",
    "#plt.arrow('x','y','dx','dy')\n",
    "plt.arrow(0,0,20,0,head_length=4,head_width=3,color='k')#abcisas\n",
    "plt.arrow(0,0,0,20,head_length=4,head_width=3,color='k')#Ordenadas\n",
    "\n",
    "plt.axis('on')\n",
    "plt.grid(True)\n",
    "plt.title('Coordenadas Arco Circular')\n",
    "\n",
    "\n",
    "'''\n",
    "GENERAMOS NUESTRO ARCO CIRCULAR DE PUNTOS POR COORDENADAS\n",
    "'''\n",
    "\n",
    "#Centro de la curvatura\n",
    "x_centroCurvatura=20\n",
    "y_centroCurvatura=20\n",
    "#Radio de la curvatura\n",
    "radioCurvatura=40\n",
    "\n",
    "\n",
    "plt.text(61, 34, '(x1,y1)')\n",
    "plt.text(16, 60, '(x2,y2)')\n",
    "#Vamos a marcar el punto del centro de curvatura y luego su leyenda\n",
    "plt.scatter(x_centroCurvatura, y_centroCurvatura, s=20, color='k')\n",
    "plt.text(x_centroCurvatura + 3, y_centroCurvatura - 5, '(x_centroCurvatura,y_centroCurvatura)')\n",
    "\n",
    "\n",
    "\n",
    "'''\n",
    "Para formar el arco vamos a establecer 2 puntos(Inicial y Final), con diferentes angulos entre estos,\n",
    "a su vez habra que convertirlos a radianes, ya que vamos a utilizarlos con el coseno y seno.\n",
    "Tambien vamos a utilizar numpy para el manejo de arrays\n",
    "Fijarse que es 1/4 de circulo...si fuese circulo completo el punto Inicial es 0 y el final 360\n",
    "'''\n",
    "puntoInicial= 20 * np.pi / 180 \n",
    "\n",
    "puntoFinal= 70 * np.pi / 180 \n",
    "\n",
    "'''\n",
    "Seguidamente hay que indicar la separacion entre estos puntos, teoricamente se llama incremento\n",
    "angular, se establece en el angulo total generado por el arco dividido entre 100, si lo dividimos \n",
    "entre 20, dara un arco mas ancho\n",
    "'''\n",
    "distanciaPuntos=(puntoFinal - puntoInicial) / 100\n",
    "\n",
    "'''\n",
    "Crearemos un bucle for para que ploteemos los puntos avanzando sobre el angulo en \n",
    "base al incremento angular con la funcion arange\n",
    "'''\n",
    "# .arange(valorInicial, valorFinal, incremento)\n",
    "for punto in np.arange(puntoInicial, puntoFinal, distanciaPuntos):\n",
    "    \n",
    "    x = x_centroCurvatura + radioCurvatura * np.cos(punto)\n",
    "    y = y_centroCurvatura + radioCurvatura * np.sin(punto)\n",
    "    \n",
    "     #plt.scatter(x_array, y_array, s_tamaño, color, etc)\n",
    "    plt.scatter(x, y, s=1, color='g' )\n",
    "\n",
    "\n",
    "    \n",
    "    \n"
   ]
  },
  {
   "cell_type": "code",
   "execution_count": null,
   "metadata": {},
   "outputs": [],
   "source": []
  }
 ],
 "metadata": {
  "kernelspec": {
   "display_name": "Python 3",
   "language": "python",
   "name": "python3"
  },
  "language_info": {
   "codemirror_mode": {
    "name": "ipython",
    "version": 3
   },
   "file_extension": ".py",
   "mimetype": "text/x-python",
   "name": "python",
   "nbconvert_exporter": "python",
   "pygments_lexer": "ipython3",
   "version": "3.8.3"
  }
 },
 "nbformat": 4,
 "nbformat_minor": 4
}
