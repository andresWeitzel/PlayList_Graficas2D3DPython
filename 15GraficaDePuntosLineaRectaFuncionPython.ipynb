{
 "cells": [
  {
   "cell_type": "code",
   "execution_count": 1,
   "metadata": {},
   "outputs": [],
   "source": [
    "import numpy as np\n",
    "import matplotlib.pyplot as plt"
   ]
  },
  {
   "cell_type": "code",
   "execution_count": 3,
   "metadata": {},
   "outputs": [
    {
     "data": {
      "text/plain": [
       "[<matplotlib.lines.Line2D at 0x1956abd5bb0>]"
      ]
     },
     "execution_count": 3,
     "metadata": {},
     "output_type": "execute_result"
    },
    {
     "data": {
      "image/png": "[encoded data removed]",
      "text/plain": [
       "<Figure size 432x288 with 1 Axes>"
      ]
     },
     "metadata": {
      "needs_background": "light"
     },
     "output_type": "display_data"
    }
   ],
   "source": [
    "'''\n",
    "==================================================================\n",
    "=====GRAFICA DE PUNTOS, LINEAS RECTAS | SEGUNDA FORMA DE IMPLEMENTACION=======\n",
    "==================================================================\n",
    "\n",
    "plt.plot([x1,x2],[y1,y2],attributes)\n",
    "\n",
    "Esto dibuja una línea desde (x1, y1) a (x2, y2) con atributos que especifican el ancho de la línea,\n",
    "color y estilo. \n",
    "\n",
    "'''\n",
    "\n",
    "#plt.axis([x1,x2,y1,y2])\n",
    "plt.axis([-10,140,100,-10])\n",
    "#plt.arrow('x','y','dx','dy')\n",
    "plt.arrow(0,0,20,0,head_length=4,head_width=3,color='k')#abscisas\n",
    "plt.arrow(0,0,0,20,head_length=4,head_width=3,color='k')#Ordenadas\n",
    "\n",
    "plt.text(15, -3, 'x')\n",
    "plt.text(-5, 15, 'y')\n",
    "\n",
    "\n",
    "plt.axis('on')\n",
    "plt.grid(True)\n",
    "plt.title('Linea Recta')\n",
    "\n",
    "\n",
    "#===========Generaremos nuestra Linea de Puntos por coordenadas==============\n",
    "\n",
    "#plt.plot ([x1, x2], [y1, y2]).\n",
    "plt.plot ([20, 120], [40, 20])"
   ]
  },
  {
   "cell_type": "code",
   "execution_count": null,
   "metadata": {},
   "outputs": [],
   "source": []
  }
 ],
 "metadata": {
  "kernelspec": {
   "display_name": "Python 3",
   "language": "python",
   "name": "python3"
  },
  "language_info": {
   "codemirror_mode": {
    "name": "ipython",
    "version": 3
   },
   "file_extension": ".py",
   "mimetype": "text/x-python",
   "name": "python",
   "nbconvert_exporter": "python",
   "pygments_lexer": "ipython3",
   "version": "3.8.3"
  }
 },
 "nbformat": 4,
 "nbformat_minor": 4
}
