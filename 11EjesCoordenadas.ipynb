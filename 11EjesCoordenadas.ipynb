{
 "cells": [
  {
   "cell_type": "code",
   "execution_count": 1,
   "metadata": {},
   "outputs": [],
   "source": [
    "import numpy as np\n",
    "import matplotlib.pyplot as plt"
   ]
  },
  {
   "cell_type": "code",
   "execution_count": 34,
   "metadata": {},
   "outputs": [
    {
     "data": {
      "text/plain": [
       "<matplotlib.patches.FancyArrow at 0x220f1c132b0>"
      ]
     },
     "execution_count": 34,
     "metadata": {},
     "output_type": "execute_result"
    },
    {
     "data": {
      "image/png": "[encoded data removed]",
      "text/plain": [
       "<Figure size 432x288 with 1 Axes>"
      ]
     },
     "metadata": {
      "needs_background": "light"
     },
     "output_type": "display_data"
    }
   ],
   "source": [
    "x1=0\n",
    "x2=80\n",
    "\n",
    "y1=0\n",
    "y2=80\n",
    "\n",
    "#Personalizamos nuestros Ejes\n",
    "plt.axis([x1,x2,y1,y2])\n",
    "\n",
    "\n",
    "plt.axis('on')\n",
    "\n",
    "plt.grid(True)\n",
    "\n",
    "plt.title('Ejes De Coordenadas')\n",
    "\n",
    "\n",
    "'''\n",
    "-Vamos a grillar aun  mas nuestra grafica, separando cada cuadrado por 5 espacios\n",
    "-Usaremos numpy para ciclar varios arreglos en los 2 ejes con la funcion np.arange\n",
    "-Usaremos puntos solidos de coordenadas con plt.scatter\n",
    "-Colocaremos flechas de referencias/coordenadas con plt.arrow(Por convencion su \n",
    "sentido es hacia abajo para ahorrar espacio)\n",
    "-Colocaremos flechas para uso dentro de nuestra grafica, mismo proceso anterior\n",
    "'''\n",
    "\n",
    "\n",
    "\n",
    "dx=5\n",
    "dy=5\n",
    "\n",
    "#np.arange('valor inicial','valor final','incremento')\n",
    "for x in np.arange(x1,x2,dx):\n",
    "    for y in np.arange(y1,y2,dy):\n",
    "        #plt.scatter(x_array, y_array, s_tamaño, color, etc)\n",
    "        plt.scatter(x,y,s=1.5,color='lightgray')\n",
    "\n",
    "        \n",
    "#Colocamos las flechas de Coordenadas, dx dy son las longitudes de la flechas por coordenadas\n",
    "#plt.arrow('x','y','dx','dy')\n",
    "#head_length:Longitud de la punta de la flecha, y el head_width el ancho        \n",
    "plt.arrow(5,77,10,0,head_length=4,head_width=3,color='k')# k is black and b is blue       \n",
    "plt.arrow(5,77,0,-10,head_length=4,head_width=2,color='k')      \n",
    "\n",
    "plt.arrow(30,60,30,0,linewidth=7,head_length=4,head_width=2,color='g')      \n",
    "plt.arrow(30,40,30,0,linewidth=3,head_length=4,head_width=4,color='r',linestyle=':')      \n"
   ]
  },
  {
   "cell_type": "code",
   "execution_count": null,
   "metadata": {},
   "outputs": [],
   "source": []
  }
 ],
 "metadata": {
  "kernelspec": {
   "display_name": "Python 3",
   "language": "python",
   "name": "python3"
  },
  "language_info": {
   "codemirror_mode": {
    "name": "ipython",
    "version": 3
   },
   "file_extension": ".py",
   "mimetype": "text/x-python",
   "name": "python",
   "nbconvert_exporter": "python",
   "pygments_lexer": "ipython3",
   "version": "3.8.3"
  }
 },
 "nbformat": 4,
 "nbformat_minor": 4
}
